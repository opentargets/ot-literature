{
 "cells": [
  {
   "cell_type": "code",
   "execution_count": 1,
   "id": "ed2eb346",
   "metadata": {},
   "outputs": [
    {
     "name": "stdout",
     "output_type": "stream",
     "text": [
      ":: loading settings :: url = jar:file:/Users/who/.sdkman/candidates/spark/3.3.4/jars/ivy-2.5.1.jar!/org/apache/ivy/core/settings/ivysettings.xml\n"
     ]
    },
    {
     "name": "stderr",
     "output_type": "stream",
     "text": [
      "Ivy Default Cache set to: /Users/who/.ivy2/cache\n",
      "The jars for the packages stored in: /Users/who/.ivy2/jars\n",
      "com.johnsnowlabs.nlp#spark-nlp_2.12 added as a dependency\n",
      ":: resolving dependencies :: org.apache.spark#spark-submit-parent-11bb4824-653c-49d1-b220-01b3fc514b27;1.0\n",
      "\tconfs: [default]\n",
      "\tfound com.johnsnowlabs.nlp#spark-nlp_2.12;5.0.0 in central\n",
      "\tfound com.typesafe#config;1.4.2 in central\n",
      "\tfound org.rocksdb#rocksdbjni;6.29.5 in central\n",
      "\tfound com.amazonaws#aws-java-sdk-bundle;1.11.828 in central\n",
      "\tfound com.github.universal-automata#liblevenshtein;3.0.0 in central\n",
      "\tfound com.google.protobuf#protobuf-java-util;3.0.0-beta-3 in central\n",
      "\tfound com.google.protobuf#protobuf-java;3.0.0-beta-3 in central\n",
      "\tfound com.google.code.gson#gson;2.3 in central\n",
      "\tfound it.unimi.dsi#fastutil;7.0.12 in central\n",
      "\tfound org.projectlombok#lombok;1.16.8 in central\n",
      "\tfound com.google.cloud#google-cloud-storage;2.20.1 in central\n",
      "\tfound com.google.guava#guava;31.1-jre in central\n",
      "\tfound com.google.guava#failureaccess;1.0.1 in central\n",
      "\tfound com.google.guava#listenablefuture;9999.0-empty-to-avoid-conflict-with-guava in central\n",
      "\tfound com.google.errorprone#error_prone_annotations;2.18.0 in central\n",
      "\tfound com.google.j2objc#j2objc-annotations;1.3 in central\n",
      "\tfound com.google.http-client#google-http-client;1.43.0 in central\n",
      "\tfound io.opencensus#opencensus-contrib-http-util;0.31.1 in central\n",
      "\tfound com.google.http-client#google-http-client-jackson2;1.43.0 in central\n",
      "\tfound com.google.http-client#google-http-client-gson;1.43.0 in central\n",
      "\tfound com.google.api-client#google-api-client;2.2.0 in central\n",
      "\tfound commons-codec#commons-codec;1.15 in central\n",
      "\tfound com.google.oauth-client#google-oauth-client;1.34.1 in central\n",
      "\tfound com.google.http-client#google-http-client-apache-v2;1.43.0 in central\n",
      "\tfound com.google.apis#google-api-services-storage;v1-rev20220705-2.0.0 in central\n",
      "\tfound com.google.code.gson#gson;2.10.1 in central\n",
      "\tfound com.google.cloud#google-cloud-core;2.12.0 in central\n",
      "\tfound io.grpc#grpc-context;1.53.0 in central\n",
      "\tfound com.google.auto.value#auto-value-annotations;1.10.1 in central\n",
      "\tfound com.google.auto.value#auto-value;1.10.1 in central\n",
      "\tfound javax.annotation#javax.annotation-api;1.3.2 in central\n",
      "\tfound commons-logging#commons-logging;1.2 in central\n",
      "\tfound com.google.cloud#google-cloud-core-http;2.12.0 in central\n",
      "\tfound com.google.http-client#google-http-client-appengine;1.43.0 in central\n",
      "\tfound com.google.api#gax-httpjson;0.108.2 in central\n",
      "\tfound com.google.cloud#google-cloud-core-grpc;2.12.0 in central\n",
      "\tfound io.grpc#grpc-alts;1.53.0 in central\n",
      "\tfound io.grpc#grpc-grpclb;1.53.0 in central\n",
      "\tfound org.conscrypt#conscrypt-openjdk-uber;2.5.2 in central\n",
      "\tfound io.grpc#grpc-auth;1.53.0 in central\n",
      "\tfound io.grpc#grpc-protobuf;1.53.0 in central\n",
      "\tfound io.grpc#grpc-protobuf-lite;1.53.0 in central\n",
      "\tfound io.grpc#grpc-core;1.53.0 in central\n",
      "\tfound com.google.api#gax;2.23.2 in central\n",
      "\tfound com.google.api#gax-grpc;2.23.2 in central\n",
      "\tfound com.google.auth#google-auth-library-credentials;1.16.0 in central\n",
      "\tfound com.google.auth#google-auth-library-oauth2-http;1.16.0 in central\n",
      "\tfound com.google.api#api-common;2.6.2 in central\n",
      "\tfound io.opencensus#opencensus-api;0.31.1 in central\n",
      "\tfound com.google.api.grpc#proto-google-iam-v1;1.9.2 in central\n",
      "\tfound com.google.protobuf#protobuf-java;3.21.12 in central\n",
      "\tfound com.google.protobuf#protobuf-java-util;3.21.12 in central\n",
      "\tfound com.google.api.grpc#proto-google-common-protos;2.14.2 in central\n",
      "\tfound org.threeten#threetenbp;1.6.5 in central\n",
      "\tfound com.google.api.grpc#proto-google-cloud-storage-v2;2.20.1-alpha in central\n",
      "\tfound com.google.api.grpc#grpc-google-cloud-storage-v2;2.20.1-alpha in central\n",
      "\tfound com.google.api.grpc#gapic-google-cloud-storage-v2;2.20.1-alpha in central\n",
      "\tfound com.fasterxml.jackson.core#jackson-core;2.14.2 in central\n",
      "\tfound com.google.code.findbugs#jsr305;3.0.2 in central\n",
      "\tfound io.grpc#grpc-api;1.53.0 in central\n",
      "\tfound io.grpc#grpc-stub;1.53.0 in central\n",
      "\tfound org.checkerframework#checker-qual;3.31.0 in central\n",
      "\tfound io.perfmark#perfmark-api;0.26.0 in central\n",
      "\tfound com.google.android#annotations;4.1.1.4 in central\n",
      "\tfound org.codehaus.mojo#animal-sniffer-annotations;1.22 in central\n",
      "\tfound io.opencensus#opencensus-proto;0.2.0 in central\n",
      "\tfound io.grpc#grpc-services;1.53.0 in central\n",
      "\tfound com.google.re2j#re2j;1.6 in central\n",
      "\tfound io.grpc#grpc-netty-shaded;1.53.0 in central\n",
      "\tfound io.grpc#grpc-googleapis;1.53.0 in central\n",
      "\tfound io.grpc#grpc-xds;1.53.0 in central\n",
      "\tfound com.navigamez#greex;1.0 in central\n",
      "\tfound dk.brics.automaton#automaton;1.11-8 in central\n",
      "\tfound com.johnsnowlabs.nlp#tensorflow-cpu_2.12;0.4.4 in central\n",
      "\tfound com.microsoft.onnxruntime#onnxruntime;1.15.0 in central\n",
      ":: resolution report :: resolve 471ms :: artifacts dl 12ms\n",
      "\t:: modules in use:\n",
      "\tcom.amazonaws#aws-java-sdk-bundle;1.11.828 from central in [default]\n",
      "\tcom.fasterxml.jackson.core#jackson-core;2.14.2 from central in [default]\n",
      "\tcom.github.universal-automata#liblevenshtein;3.0.0 from central in [default]\n",
      "\tcom.google.android#annotations;4.1.1.4 from central in [default]\n",
      "\tcom.google.api#api-common;2.6.2 from central in [default]\n",
      "\tcom.google.api#gax;2.23.2 from central in [default]\n",
      "\tcom.google.api#gax-grpc;2.23.2 from central in [default]\n",
      "\tcom.google.api#gax-httpjson;0.108.2 from central in [default]\n",
      "\tcom.google.api-client#google-api-client;2.2.0 from central in [default]\n",
      "\tcom.google.api.grpc#gapic-google-cloud-storage-v2;2.20.1-alpha from central in [default]\n",
      "\tcom.google.api.grpc#grpc-google-cloud-storage-v2;2.20.1-alpha from central in [default]\n",
      "\tcom.google.api.grpc#proto-google-cloud-storage-v2;2.20.1-alpha from central in [default]\n",
      "\tcom.google.api.grpc#proto-google-common-protos;2.14.2 from central in [default]\n",
      "\tcom.google.api.grpc#proto-google-iam-v1;1.9.2 from central in [default]\n",
      "\tcom.google.apis#google-api-services-storage;v1-rev20220705-2.0.0 from central in [default]\n",
      "\tcom.google.auth#google-auth-library-credentials;1.16.0 from central in [default]\n",
      "\tcom.google.auth#google-auth-library-oauth2-http;1.16.0 from central in [default]\n",
      "\tcom.google.auto.value#auto-value;1.10.1 from central in [default]\n",
      "\tcom.google.auto.value#auto-value-annotations;1.10.1 from central in [default]\n",
      "\tcom.google.cloud#google-cloud-core;2.12.0 from central in [default]\n",
      "\tcom.google.cloud#google-cloud-core-grpc;2.12.0 from central in [default]\n",
      "\tcom.google.cloud#google-cloud-core-http;2.12.0 from central in [default]\n",
      "\tcom.google.cloud#google-cloud-storage;2.20.1 from central in [default]\n",
      "\tcom.google.code.findbugs#jsr305;3.0.2 from central in [default]\n",
      "\tcom.google.code.gson#gson;2.10.1 from central in [default]\n",
      "\tcom.google.errorprone#error_prone_annotations;2.18.0 from central in [default]\n",
      "\tcom.google.guava#failureaccess;1.0.1 from central in [default]\n",
      "\tcom.google.guava#guava;31.1-jre from central in [default]\n",
      "\tcom.google.guava#listenablefuture;9999.0-empty-to-avoid-conflict-with-guava from central in [default]\n",
      "\tcom.google.http-client#google-http-client;1.43.0 from central in [default]\n",
      "\tcom.google.http-client#google-http-client-apache-v2;1.43.0 from central in [default]\n",
      "\tcom.google.http-client#google-http-client-appengine;1.43.0 from central in [default]\n",
      "\tcom.google.http-client#google-http-client-gson;1.43.0 from central in [default]\n",
      "\tcom.google.http-client#google-http-client-jackson2;1.43.0 from central in [default]\n",
      "\tcom.google.j2objc#j2objc-annotations;1.3 from central in [default]\n",
      "\tcom.google.oauth-client#google-oauth-client;1.34.1 from central in [default]\n",
      "\tcom.google.protobuf#protobuf-java;3.21.12 from central in [default]\n",
      "\tcom.google.protobuf#protobuf-java-util;3.21.12 from central in [default]\n",
      "\tcom.google.re2j#re2j;1.6 from central in [default]\n",
      "\tcom.johnsnowlabs.nlp#spark-nlp_2.12;5.0.0 from central in [default]\n",
      "\tcom.johnsnowlabs.nlp#tensorflow-cpu_2.12;0.4.4 from central in [default]\n",
      "\tcom.microsoft.onnxruntime#onnxruntime;1.15.0 from central in [default]\n",
      "\tcom.navigamez#greex;1.0 from central in [default]\n",
      "\tcom.typesafe#config;1.4.2 from central in [default]\n",
      "\tcommons-codec#commons-codec;1.15 from central in [default]\n",
      "\tcommons-logging#commons-logging;1.2 from central in [default]\n",
      "\tdk.brics.automaton#automaton;1.11-8 from central in [default]\n",
      "\tio.grpc#grpc-alts;1.53.0 from central in [default]\n",
      "\tio.grpc#grpc-api;1.53.0 from central in [default]\n",
      "\tio.grpc#grpc-auth;1.53.0 from central in [default]\n",
      "\tio.grpc#grpc-context;1.53.0 from central in [default]\n",
      "\tio.grpc#grpc-core;1.53.0 from central in [default]\n",
      "\tio.grpc#grpc-googleapis;1.53.0 from central in [default]\n",
      "\tio.grpc#grpc-grpclb;1.53.0 from central in [default]\n",
      "\tio.grpc#grpc-netty-shaded;1.53.0 from central in [default]\n",
      "\tio.grpc#grpc-protobuf;1.53.0 from central in [default]\n",
      "\tio.grpc#grpc-protobuf-lite;1.53.0 from central in [default]\n",
      "\tio.grpc#grpc-services;1.53.0 from central in [default]\n",
      "\tio.grpc#grpc-stub;1.53.0 from central in [default]\n",
      "\tio.grpc#grpc-xds;1.53.0 from central in [default]\n",
      "\tio.opencensus#opencensus-api;0.31.1 from central in [default]\n",
      "\tio.opencensus#opencensus-contrib-http-util;0.31.1 from central in [default]\n",
      "\tio.opencensus#opencensus-proto;0.2.0 from central in [default]\n",
      "\tio.perfmark#perfmark-api;0.26.0 from central in [default]\n",
      "\tit.unimi.dsi#fastutil;7.0.12 from central in [default]\n",
      "\tjavax.annotation#javax.annotation-api;1.3.2 from central in [default]\n",
      "\torg.checkerframework#checker-qual;3.31.0 from central in [default]\n",
      "\torg.codehaus.mojo#animal-sniffer-annotations;1.22 from central in [default]\n",
      "\torg.conscrypt#conscrypt-openjdk-uber;2.5.2 from central in [default]\n",
      "\torg.projectlombok#lombok;1.16.8 from central in [default]\n",
      "\torg.rocksdb#rocksdbjni;6.29.5 from central in [default]\n",
      "\torg.threeten#threetenbp;1.6.5 from central in [default]\n",
      "\t:: evicted modules:\n",
      "\tcom.google.protobuf#protobuf-java-util;3.0.0-beta-3 by [com.google.protobuf#protobuf-java-util;3.21.12] in [default]\n",
      "\tcom.google.protobuf#protobuf-java;3.0.0-beta-3 by [com.google.protobuf#protobuf-java;3.21.12] in [default]\n",
      "\tcom.google.code.gson#gson;2.3 by [com.google.code.gson#gson;2.10.1] in [default]\n",
      "\t---------------------------------------------------------------------\n",
      "\t|                  |            modules            ||   artifacts   |\n",
      "\t|       conf       | number| search|dwnlded|evicted|| number|dwnlded|\n",
      "\t---------------------------------------------------------------------\n",
      "\t|      default     |   75  |   0   |   0   |   3   ||   72  |   0   |\n",
      "\t---------------------------------------------------------------------\n",
      ":: retrieving :: org.apache.spark#spark-submit-parent-11bb4824-653c-49d1-b220-01b3fc514b27\n",
      "\tconfs: [default]\n",
      "\t0 artifacts copied, 72 already retrieved (0kB/6ms)\n"
     ]
    },
    {
     "name": "stdout",
     "output_type": "stream",
     "text": [
      "25/04/29 15:00:07 WARN NativeCodeLoader: Unable to load native-hadoop library for your platform... using builtin-java classes where applicable\n"
     ]
    },
    {
     "name": "stderr",
     "output_type": "stream",
     "text": [
      "Setting default log level to \"WARN\".\n",
      "To adjust logging level use sc.setLogLevel(newLevel). For SparkR, use setLogLevel(newLevel).\n"
     ]
    },
    {
     "name": "stdout",
     "output_type": "stream",
     "text": [
      "25/04/29 15:00:07 WARN Utils: Service 'SparkUI' could not bind on port 4040. Attempting port 4041.\n"
     ]
    }
   ],
   "source": [
    "from src.literature.common.session import Session\n",
    "session = Session(for_nlp=True)\n",
    "\n",
    "import pyspark.sql.functions as f"
   ]
  },
  {
   "cell_type": "markdown",
   "id": "777f641f",
   "metadata": {},
   "source": [
    "Extracing entities from Open Targets indices, then normalising the entities:"
   ]
  },
  {
   "cell_type": "code",
   "execution_count": 2,
   "id": "411f2023",
   "metadata": {},
   "outputs": [
    {
     "name": "stderr",
     "output_type": "stream",
     "text": [
      "WARNING: An illegal reflective access operation has occurred\n",
      "WARNING: Illegal reflective access by org.apache.spark.util.SizeEstimator$ (file:/Users/who/.sdkman/candidates/spark/3.3.4/jars/spark-core_2.12-3.3.4.jar) to field java.util.regex.Pattern.pattern\n",
      "WARNING: Please consider reporting this to the maintainers of org.apache.spark.util.SizeEstimator$\n",
      "WARNING: Use --illegal-access=warn to enable warnings of further illegal reflective access operations\n",
      "WARNING: All illegal access operations will be denied in a future release\n"
     ]
    }
   ],
   "source": [
    "from src.literature.datasource.open_targets.disease import OpenTargetsDisease\n",
    "from src.literature.datasource.open_targets.target import OpenTargetsTarget\n",
    "from src.literature.datasource.open_targets.drug import OpenTargetsDrug\n",
    "\n",
    "disease_entities = OpenTargetsDisease.from_index(session, \"assets/disease\")\n",
    "disease_normalised = disease_entities.normalise_entities()\n",
    "\n",
    "target_entities = OpenTargetsTarget.from_index(session, \"assets/target\")\n",
    "target_normalised = target_entities.normalise_entities()\n",
    "\n",
    "drug_entities = OpenTargetsDrug.from_index(session, \"assets/drug_molecule\")\n",
    "drug_normalised = drug_entities.normalise_entities()"
   ]
  },
  {
   "cell_type": "code",
   "execution_count": 3,
   "id": "c29c6a2b",
   "metadata": {},
   "outputs": [
    {
     "name": "stderr",
     "output_type": "stream",
     "text": [
      "[Stage 3:=============================>                             (1 + 1) / 2]\r"
     ]
    },
    {
     "name": "stdout",
     "output_type": "stream",
     "text": [
      "+----------+--------------------+-----------+---------------+\n",
      "|  entityId|         entityLabel|entityScore|nlpPipelineType|\n",
      "+----------+--------------------+-----------+---------------+\n",
      "|GO_0000226|microtubule cytos...|      0.996|           term|\n",
      "|GO_0002524|    hypersensitivity|        1.0|           term|\n",
      "|GO_0007165|  signalling cascade|      0.998|           term|\n",
      "|GO_0007249|I-kappaB kinase/N...|      0.999|           term|\n",
      "|GO_0009150|purine ribonucleo...|        1.0|           term|\n",
      "|GO_1904057|down-regulation o...|      0.999|           term|\n",
      "|HP_0000256|         Big cranium|      0.997|           term|\n",
      "|HP_0000337| Bitemporal widening|      0.999|           term|\n",
      "|HP_0000431|  Broad nasal bridge|      0.999|           term|\n",
      "|HP_0000775|Diaphragmatic defect|      0.999|           term|\n",
      "|HP_0000876|Light or infreque...|      0.999|           term|\n",
      "|HP_0000972|Palmoplantar kera...|      0.999|           term|\n",
      "|HP_0001114|         Xanthelasma|        1.0|           term|\n",
      "|HP_0001182|      Tapered finger|      0.999|           term|\n",
      "|HP_0001347|  Increased reflexes|      0.999|           term|\n",
      "|HP_0001609|          Hoarseness|      0.999|           term|\n",
      "|HP_0001623|Breech presentati...|      0.999|           term|\n",
      "|HP_0001643|Persistent arteri...|      0.999|           term|\n",
      "|HP_0002066|         Gait ataxia|        1.0|           term|\n",
      "|HP_0002075|Difficulty perfor...|      0.999|           term|\n",
      "+----------+--------------------+-----------+---------------+\n",
      "only showing top 20 rows\n",
      "\n"
     ]
    },
    {
     "name": "stderr",
     "output_type": "stream",
     "text": [
      "                                                                                \r"
     ]
    }
   ],
   "source": [
    "disease_entities.df.show()"
   ]
  },
  {
   "cell_type": "code",
   "execution_count": 4,
   "id": "2a97d767",
   "metadata": {},
   "outputs": [
    {
     "name": "stderr",
     "output_type": "stream",
     "text": [
      "[Stage 8:>                                                          (0 + 1) / 1]\r"
     ]
    },
    {
     "name": "stdout",
     "output_type": "stream",
     "text": [
      "+----------+--------------------+-----------+---------------+---------------------+\n",
      "|  entityId|         entityLabel|entityScore|nlpPipelineType|entityLabelNormalised|\n",
      "+----------+--------------------+-----------+---------------+---------------------+\n",
      "|GO_0000226|microtubule cytos...|      0.996|           term| biogenesicytoskel...|\n",
      "|GO_0002524|    hypersensitivity|        1.0|           term|          hypersensit|\n",
      "|GO_0007165|  signalling cascade|      0.998|           term|         cascadsignal|\n",
      "|GO_0007249|I-kappaB kinase/N...|      0.999|           term| ikappabkinasnfsig...|\n",
      "|GO_0009150|purine ribonucleo...|        1.0|           term| metabolprocesspur...|\n",
      "|GO_1904057|down-regulation o...|      0.999|           term| painperceptreguls...|\n",
      "|HP_0000256|         Big cranium|      0.997|           term|           bigcranium|\n",
      "|HP_0000337| Bitemporal widening|      0.999|           term|        bitemporwiden|\n",
      "|HP_0000431|  Broad nasal bridge|      0.999|           term|      bridgbroadnasal|\n",
      "|HP_0000775|Diaphragmatic defect|      0.999|           term|    defectdiaphragmat|\n",
      "|HP_0000876|Light or infreque...|      0.999|           term| infrequlightmenst...|\n",
      "|HP_0000972|Palmoplantar kera...|      0.999|           term|  keratospalmoplantar|\n",
      "|HP_0001114|         Xanthelasma|        1.0|           term|          xanthelasma|\n",
      "|HP_0001182|      Tapered finger|      0.999|           term|          fingertaper|\n",
      "|HP_0001347|  Increased reflexes|      0.999|           term|        increasreflex|\n",
      "|HP_0001609|          Hoarseness|      0.999|           term|                hoars|\n",
      "|HP_0001623|Breech presentati...|      0.999|           term|   birthbreechpresent|\n",
      "|HP_0001643|Persistent arteri...|      0.999|           term|    arteriductpersist|\n",
      "|HP_0002066|         Gait ataxia|        1.0|           term|           ataxiagait|\n",
      "|HP_0002075|Difficulty perfor...|      0.999|           term| alterndifficultim...|\n",
      "+----------+--------------------+-----------+---------------+---------------------+\n",
      "only showing top 20 rows\n",
      "\n"
     ]
    },
    {
     "name": "stderr",
     "output_type": "stream",
     "text": [
      "                                                                                \r"
     ]
    }
   ],
   "source": [
    "disease_normalised.df.show()"
   ]
  },
  {
   "cell_type": "markdown",
   "id": "b327700a",
   "metadata": {},
   "source": [
    "First steps of processing publications:\n",
    "- process fulltexts using lookup table\n",
    "- merge abstracts will fulltexts to get all epmc publications\n",
    "- (should be following up deduplicating publications by getting the most recent version of each publication, demonstrated using a different dataset below)"
   ]
  },
  {
   "cell_type": "code",
   "execution_count": 5,
   "id": "1eb80f78",
   "metadata": {},
   "outputs": [
    {
     "name": "stderr",
     "output_type": "stream",
     "text": [
      "                                                                                \r"
     ]
    },
    {
     "data": {
      "text/plain": [
       "9684951"
      ]
     },
     "execution_count": 5,
     "metadata": {},
     "output_type": "execute_result"
    }
   ],
   "source": [
    "# curl http://ftp.ebi.ac.uk/pub/databases/pmc/DOI/PMID_PMCID_DOI.csv.gz > PMID_PMCID_DOI.csv.gz\n",
    "\n",
    "from src.literature.datasource.epmc.publication_id_lut import PublicationIdLUT\n",
    "\n",
    "pub_id_lut = PublicationIdLUT.from_csv(session, \"assets/PMID_PMCID_DOI.csv.gz\")\n",
    "pub_id_lut.count()"
   ]
  },
  {
   "cell_type": "code",
   "execution_count": 6,
   "id": "dea53bd3",
   "metadata": {},
   "outputs": [
    {
     "name": "stderr",
     "output_type": "stream",
     "text": [
      "                                                                                \r"
     ]
    },
    {
     "data": {
      "text/plain": [
       "51671"
      ]
     },
     "execution_count": 6,
     "metadata": {},
     "output_type": "execute_result"
    }
   ],
   "source": [
    "from src.literature.datasource.epmc.publication import EPMCPublication\n",
    "\n",
    "processed_fulltexts = (\n",
    "    EPMCPublication.from_source(session, \"example_both_abstract_and_fulltext/fulltext/*\")\n",
    "    .process_fulltexts_using_lut(pub_id_lut)\n",
    ")\n",
    "all_epmc_publications = (\n",
    "    EPMCPublication.from_source(session, \"example_both_abstract_and_fulltext/abstract/*\")\n",
    "    .merge_abstracts_with_fulltexts(processed_fulltexts)\n",
    ")\n",
    "all_epmc_publications.df.count()"
   ]
  },
  {
   "cell_type": "markdown",
   "id": "c7a941bd",
   "metadata": {},
   "source": [
    "Next steps of processing publications:\n",
    "- (should be preceded by merging abstracts with fulltexts, but not done here as dataset consists of only abstracts)\n",
    "- get most recent version of each publication\n",
    "- extract matches\n",
    "- extract entities\n",
    "- normalise entitities\n",
    "- (will be followed by grounding of entities to entityIds, then disambiguation)"
   ]
  },
  {
   "cell_type": "code",
   "execution_count": 7,
   "id": "711f97ca",
   "metadata": {},
   "outputs": [
    {
     "name": "stderr",
     "output_type": "stream",
     "text": [
      "[Stage 38:==============================================>          (9 + 2) / 11]\r"
     ]
    },
    {
     "name": "stdout",
     "output_type": "stream",
     "text": [
      "174970\n"
     ]
    },
    {
     "name": "stderr",
     "output_type": "stream",
     "text": [
      "                                                                                \r"
     ]
    }
   ],
   "source": [
    "normalised_entities = (\n",
    "    EPMCPublication.from_source(session, \"example_timestamps/abstract/*\")\n",
    "    .get_most_recent_publications()\n",
    "    .extract_matches()\n",
    "    .extract_entities()\n",
    "    .normalise_entities()\n",
    ")\n",
    "print(normalised_entities.df.count())"
   ]
  },
  {
   "cell_type": "code",
   "execution_count": 8,
   "id": "5c98d5d0",
   "metadata": {},
   "outputs": [
    {
     "name": "stderr",
     "output_type": "stream",
     "text": [
      "[Stage 51:=========================================>               (8 + 3) / 11]\r"
     ]
    },
    {
     "name": "stdout",
     "output_type": "stream",
     "text": [
      "+---------------------+----------+--------------------+---------------+---------------------+\n",
      "|entityLabelFromSource|entityType|         entityLabel|nlpPipelineType|entityLabelNormalised|\n",
      "+---------------------+----------+--------------------+---------------+---------------------+\n",
      "|                  Bax|        GP|                 Bax|           term|                  bax|\n",
      "|           Homeopathy|        DS|          Homeopathy|           term|           homeopathi|\n",
      "|          phytic acid|        CD|         phytic acid|         symbol|           phyticacid|\n",
      "|     Wilson's disease|        DS|    Wilson's disease|           term|         diseaswilson|\n",
      "|              Estriol|        CD|             Estriol|           term|              estriol|\n",
      "|               ATPase|        GP|              ATPase|         symbol|               atpase|\n",
      "|         breast tumor|        DS|        breast tumor|           term|          breasttumor|\n",
      "| non-Hodgkin lymphoma|        DS|non-Hodgkin lymphoma|           term|   hodgkinlymphomanon|\n",
      "| hepatitis B surfa...|        GP|hepatitis B surfa...|         symbol| hepatitisbsurface...|\n",
      "|             pyruvate|        CD|            pyruvate|         symbol|             pyruvate|\n",
      "| pyruvate transporter|        GP|pyruvate transporter|           term|       pyruvtransport|\n",
      "|        Tetracyclines|        CD|       Tetracyclines|         symbol|        tetracyclines|\n",
      "|    abdominal obesity|        DS|   abdominal obesity|           term|          abdominobes|\n",
      "|                TGF-β|        GP|               TGF-b|           term|                 btgf|\n",
      "|                  TYR|        GP|                 TYR|           term|                  tyr|\n",
      "|        enteric fever|        DS|       enteric fever|           term|           enterfever|\n",
      "|               pectus|        DS|              pectus|           term|                pectu|\n",
      "| inflammatory skin...|        DS|inflammatory skin...|           term| diseasinflammator...|\n",
      "|              lectins|        GP|             lectins|         symbol|              lectins|\n",
      "|                ABC's|        DS|               ABC's|           term|                  abc|\n",
      "+---------------------+----------+--------------------+---------------+---------------------+\n",
      "only showing top 20 rows\n",
      "\n"
     ]
    },
    {
     "name": "stderr",
     "output_type": "stream",
     "text": [
      "                                                                                \r"
     ]
    }
   ],
   "source": [
    "normalised_entities.df.show()"
   ]
  },
  {
   "cell_type": "code",
   "execution_count": null,
   "id": "00bb8e62",
   "metadata": {},
   "outputs": [],
   "source": []
  }
 ],
 "metadata": {
  "kernelspec": {
   "display_name": ".venv",
   "language": "python",
   "name": "python3"
  },
  "language_info": {
   "codemirror_mode": {
    "name": "ipython",
    "version": 3
   },
   "file_extension": ".py",
   "mimetype": "text/x-python",
   "name": "python",
   "nbconvert_exporter": "python",
   "pygments_lexer": "ipython3",
   "version": "3.10.16"
  }
 },
 "nbformat": 4,
 "nbformat_minor": 5
}
